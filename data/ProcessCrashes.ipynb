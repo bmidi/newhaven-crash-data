{
 "cells": [
  {
   "cell_type": "markdown",
   "metadata": {},
   "source": [
    "# Crashes to JSON\n",
    "\n",
    "Use `Data Query Tool` to create a new export from UCONN Crashes (Town=Hartford, last five years): https://www.ctcrash.uconn.edu/QueryTool2.action\n",
    "\n",
    "* Since the tool does not let you export large datasets (over 90,000 persons), export multiple times for different time periods and specify all export IDs in the `exports` list below.\n",
    "\n",
    "This notebook combines data from two tables (0 and 2) into a small JSON file and a CSV file (same content, different formats), which is an array of objects that look like this:\n",
    "```js\n",
    "{\n",
    "    \"id\": 770826,    // crash id (used to pull the diagram)\n",
    "    \"x\": 41.73936,   // latitude\n",
    "    \"y\": -72.66404,  // longitude\n",
    "    \"d\": 1593820800, // timestamp\n",
    "    \"p\": 0,          // involves a pedestrian? (1=true, 0=false)\n",
    "    \"c\": 0,          // involves a cyclist? (1=true, 0=false)\n",
    "    \"r\": 1,          // route class (1=Interstate, 2=USRoute, 3=State, 4=Local)\n",
    "    \"s\": 0,          // crash severity (O=no injuries, A=any injury, K=fatal)\n",
    "}\n",
    "```\n",
    "\n",
    "Note: the timestamp `d` needs to be multiplied by `100,000` for a proper JS timestamp."
   ]
  },
  {
   "cell_type": "code",
   "execution_count": null,
   "metadata": {},
   "outputs": [],
   "source": [
    "import pandas as pd"
   ]
  },
  {
   "cell_type": "code",
   "execution_count": null,
   "metadata": {},
   "outputs": [],
   "source": [
    "exports = ['165957']"
   ]
  },
  {
   "cell_type": "markdown",
   "metadata": {},
   "source": [
    "### Import roles from table 2"
   ]
  },
  {
   "cell_type": "code",
   "execution_count": null,
   "metadata": {},
   "outputs": [],
   "source": [
    "roles = []\n",
    "\n",
    "for export in exports:\n",
    "    df = pd.read_csv(\n",
    "        f'export_{export}/export_{export}_2.csv',\n",
    "        skiprows=1,\n",
    "        usecols=['CrashId', 'Person Type Text Format']\n",
    "    )\n",
    "    roles.append( df )\n",
    "\n",
    "roles_df = pd.concat(roles).groupby(['CrashId'])['Person Type Text Format'].unique() # .groupby(['CrashId'])['Person Type Text Format'].unique()\n",
    "\n",
    "print(type(roles_df))\n",
    "\n",
    "\n",
    "print(roles_df)"
   ]
  },
  {
   "cell_type": "markdown",
   "metadata": {},
   "source": [
    "### Import crashes from table 0"
   ]
  },
  {
   "cell_type": "code",
   "execution_count": null,
   "metadata": {},
   "outputs": [],
   "source": [
    "localData = []\n",
    "\n",
    "for export in exports:\n",
    "    df = pd.read_csv(\n",
    "        f'export_{export}/export_{export}_0.csv',\n",
    "        skiprows=1,\n",
    "        usecols=['CrashId', 'Latitude', 'Longitude', 'Date Of Crash',\n",
    "                 'Time of Crash', 'Crash Severity', 'Route Class',\n",
    "                 'Roadway Name', 'Intersecting Roadway Name']\n",
    "    )\n",
    "    localData.append( df )\n",
    "\n",
    "print(localData)\n",
    "\n",
    "localData_df = pd.concat(localData)\n",
    "\n",
    "print(type(localData_df))\n",
    "\n",
    "crashesTable0_df = localData_df.merge(roles_df, on='CrashId', how='inner')\n",
    "\n",
    "print(crashesTable0_df)"
   ]
  },
  {
   "cell_type": "markdown",
   "metadata": {},
   "source": [
    "Import crashes from table 1\n"
   ]
  },
  {
   "cell_type": "code",
   "execution_count": null,
   "metadata": {},
   "outputs": [],
   "source": [
    "vehicleData = []\n",
    "\n",
    "for export in exports:\n",
    "    df = pd.read_csv(\n",
    "        f'export_{export}/export_{export}_1.csv',\n",
    "        skiprows = 1,\n",
    "        usecols=['CrashId', 'Direction of Travel Before Crash', 'Contributing Circumstances, Motor Vehicle', \n",
    "                 'Posted/Statutory Speed Limit', 'Bike Lanes/Sharrows Present']\n",
    "    )\n",
    "    vehicleData.append ( df )\n",
    "\n",
    "crashesTable1_df = pd.concat(vehicleData)\n",
    "\n",
    "# crashesTableFinal = pd.concat([crashesTable2_df, crashesTable1_df, crashesTable2_df], axis=1, verify_integrity=True)\n",
    "\n",
    "crashesTableFinal_df = crashesTable0_df.merge(crashesTable1_df, on='CrashId', how='inner')"
   ]
  },
  {
   "cell_type": "markdown",
   "metadata": {},
   "source": [
    "### Merge data and save to .json and .csv"
   ]
  },
  {
   "cell_type": "code",
   "execution_count": null,
   "metadata": {},
   "outputs": [],
   "source": [
    "crashesTableFinal_df.to_csv('crashes.csv', index=False)\n",
    "\n",
    "crashesTableFinal_df.head()\n"
   ]
  },
  {
   "cell_type": "raw",
   "metadata": {},
   "source": [
    "test = crashes.copy().rename(columns={'Date Of Crash': 'date'})\n",
    "\n",
    "test['mo'] = test.date.apply(lambda x: x[5:7])\n",
    "test['year'] = test.date.apply(lambda x: x[:4])\n",
    "\n",
    "test.head()"
   ]
  },
  {
   "cell_type": "raw",
   "metadata": {},
   "source": [
    "test[ (test.date >= '2019-01-01') & (test.date <= '2019-12-31') & (test['Route Class'] >= 0 )].groupby(['Crash Severity']).count()"
   ]
  },
  {
   "cell_type": "code",
   "execution_count": null,
   "metadata": {},
   "outputs": [],
   "source": [
    "# Rename columns to make JSON output smaller\n",
    "crashesTableFinal_df.columns = ['id', 'x', 'y', 'd', 't', 's', 'r', 'o', 'h',\\\n",
    "    'k', 'j', 'm', 'b', 'v']\n",
    "\n",
    "crashesTableFinal_df.head()"
   ]
  },
  {
   "cell_type": "code",
   "execution_count": null,
   "metadata": {},
   "outputs": [],
   "source": [
    "# Transform timestamps\n",
    "crashesTableFinal_df.d = crashesTableFinal_df.d.apply(lambda x: int(pd.to_datetime(x).timestamp() / 100))\n",
    "crashesTableFinal_df.t = crashesTableFinal_df.t.apply(lambda x: x[:-3])\n",
    "\n",
    "# Set up pedestrian and cyclist flags\n",
    "crashesTableFinal_df['p'] = crashesTableFinal_df.id.apply(lambda x: 1 if x in roles_df and 'Pedestrian' in roles_df[x] else 0)\n",
    "crashesTableFinal_df['c'] = crashesTableFinal_df.id.apply(lambda x: 1 if x in roles_df and 'Bicyclist' in roles_df[x] else 0)\n",
    "\n",
    "crashesTableFinal_df.head()"
   ]
  },
  {
   "cell_type": "code",
   "execution_count": null,
   "metadata": {},
   "outputs": [],
   "source": [
    "# Save as JSON\n",
    "crashesTableFinal_df.to_json('./crashes.json', orient='records', double_precision=5)\n",
    "\n",
    "# Save as CSV\n",
    "crashesTableFinal_df.to_csv('crashes.csv', index=False)"
   ]
  }
 ],
 "metadata": {
  "kernelspec": {
   "display_name": "Python 3",
   "language": "python",
   "name": "python3"
  },
  "language_info": {
   "codemirror_mode": {
    "name": "ipython",
    "version": 3
   },
   "file_extension": ".py",
   "mimetype": "text/x-python",
   "name": "python",
   "nbconvert_exporter": "python",
   "pygments_lexer": "ipython3",
   "version": "3.11.5"
  }
 },
 "nbformat": 4,
 "nbformat_minor": 4
}
